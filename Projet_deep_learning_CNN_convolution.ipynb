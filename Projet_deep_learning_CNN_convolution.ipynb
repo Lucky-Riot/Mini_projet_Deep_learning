{
 "cells": [
  {
   "cell_type": "code",
   "execution_count": 1,
   "id": "82557487",
   "metadata": {},
   "outputs": [],
   "source": [
    "import torch\n",
    "import torch.nn as nn\n",
    "import torch.optim as optim\n",
    "from torchvision import transforms, datasets\n",
    "from torch.utils.data import DataLoader, random_split\n",
    "import matplotlib.pyplot as plt\n",
    "import numpy as np\n",
    "import scipy.io\n",
    "import json\n",
    "import os\n",
    "import shutil\n",
    "import random\n",
    "from PIL import Image"
   ]
  },
  {
   "cell_type": "code",
   "execution_count": 2,
   "id": "16e55e98",
   "metadata": {},
   "outputs": [],
   "source": [
    "# Définir les transformations pour les données\n",
    "transform_couleur = transforms.Compose([\n",
    "    transforms.Resize((112, 112)),  # Redimensionner les images à 112x112\n",
    "    transforms.ToTensor(),  # Convertir les images en tenseurs PyTorch\n",
    "    transforms.Normalize(mean=[0.485, 0.456, 0.406], std=[0.229, 0.224, 0.225])  # Normaliser avec les statistiques de l'ImageNet\n",
    "])\n",
    "\n",
    "# Définir une nouvelle transformation pour convertir les images en niveaux de gris\n",
    "transform = transforms.Compose([\n",
    "    transforms.Resize((112, 112)),  # Redimensionner les images à 112x112\n",
    "    transforms.Grayscale(),  # Convertir les images en niveaux de gris\n",
    "    transforms.ToTensor(),  # Convertir les images en tenseurs PyTorch\n",
    "])\n",
    "\n",
    "# Télécharger et charger le jeu de données Flowers102\n",
    "dataset = datasets.Flowers102(root='./data', \n",
    "                              split='train', \n",
    "                              transform=transform_couleur, \n",
    "                              download=True)\n",
    "\n",
    "# Définir les proportions pour l'entraînement et le test\n",
    "train_size = int(0.8 * len(dataset))\n",
    "test_size = len(dataset) - train_size\n",
    "\n",
    "# Diviser dataset1 en ensemble d'entraînement et de test\n",
    "train_dataset, test_dataset = random_split(dataset, [train_size, test_size])"
   ]
  },
  {
   "cell_type": "code",
   "execution_count": 3,
   "id": "5a34865c",
   "metadata": {},
   "outputs": [
    {
     "name": "stdout",
     "output_type": "stream",
     "text": [
      "nombre d'échantillons d'entraînement: 816\n",
      "nombre d'échantillons de test: 204\n"
     ]
    }
   ],
   "source": [
    "print(\"nombre d'échantillons d'entraînement: \" + str(len(train_dataset)) + \"\\n\" +\n",
    "      \"nombre d'échantillons de test: \" + str(len(test_dataset)))"
   ]
  },
  {
   "cell_type": "code",
   "execution_count": 4,
   "id": "f22eb2c0",
   "metadata": {},
   "outputs": [
    {
     "name": "stdout",
     "output_type": "stream",
     "text": [
      "type de données du 1er échantillon d'entraînement:  torch.FloatTensor\n",
      "taille du 1er échantillon d'entraînement:  torch.Size([3, 112, 112])\n"
     ]
    }
   ],
   "source": [
    "print(\"type de données du 1er échantillon d'entraînement: \", train_dataset[0][0].type())\n",
    "print(\"taille du 1er échantillon d'entraînement: \", train_dataset[0][0].size())"
   ]
  },
  {
   "cell_type": "code",
   "execution_count": 5,
   "id": "681be39a",
   "metadata": {},
   "outputs": [],
   "source": [
    "# Créer les DataLoader pour itérer sur les jeux de données\n",
    "train_loader = DataLoader(train_dataset, batch_size=32, shuffle=True)\n",
    "test_loader = DataLoader(test_dataset, batch_size=32, shuffle=False)"
   ]
  },
  {
   "cell_type": "markdown",
   "id": "254ddfd0",
   "metadata": {},
   "source": [
    "## Définir le modèle CNN"
   ]
  },
  {
   "cell_type": "markdown",
   "id": "928140e5",
   "metadata": {},
   "source": [
    "### Aplati pour 112 * 112 * 3"
   ]
  },
  {
   "cell_type": "code",
   "execution_count": 12,
   "id": "486dd47b",
   "metadata": {},
   "outputs": [],
   "source": [
    "\n",
    "class SimpleCNN(nn.Module):\n",
    "    def __init__(self, num_classes=102):\n",
    "        super(SimpleCNN, self).__init__()\n",
    "        self.conv1 = nn.Conv2d(in_channels=3, out_channels=16, kernel_size=3, stride=1, padding=1)\n",
    "        self.conv2 = nn.Conv2d(in_channels=16, out_channels=32, kernel_size=3, stride=1, padding=1)\n",
    "        self.pool = nn.MaxPool2d(kernel_size=2, stride=2, padding=0)\n",
    "        \n",
    "        self.fc1 = nn.Linear(32 * 28 * 28, 512)\n",
    "        self.fc2 = nn.Linear(512, num_classes)\n",
    "        \n",
    "    def forward(self, x):\n",
    "        x = self.pool(torch.relu(self.conv1(x)))\n",
    "        x = self.pool(torch.relu(self.conv2(x)))\n",
    "        x = x.view(x.size(0), -1)  # Aplatir\n",
    "        x = torch.relu(self.fc1(x))\n",
    "        x = torch.softmax(self.fc2(x), dim=1)\n",
    "        return x\n",
    "\n",
    "model = SimpleCNN(num_classes=102)\n"
   ]
  },
  {
   "cell_type": "code",
   "execution_count": 13,
   "id": "057787b8",
   "metadata": {},
   "outputs": [],
   "source": [
    "# Définition de l'optimiseur et de la perte d'entropie croisée\n",
    "optimiseur = torch.optim.Adam(model.parameters(), lr=0.001)\n",
    "critere = nn.CrossEntropyLoss()"
   ]
  },
  {
   "cell_type": "code",
   "execution_count": null,
   "id": "c02226ac",
   "metadata": {},
   "outputs": [],
   "source": [
    "epochs = 25\n",
    "Perte = []\n",
    "acc = []\n",
    "\n",
    "\n",
    "for epoque in range(epochs):\n",
    "    model.train()\n",
    "    running_loss = 0.0\n",
    "    \n",
    "    for images, etiquettes in train_loader:\n",
    "        optimiseur.zero_grad()\n",
    "        sorties = model(images)\n",
    "        perte = critere(sorties, etiquettes)\n",
    "        perte.backward()\n",
    "        optimiseur.step()\n",
    "        running_loss += perte.item()\n",
    "    \n",
    "    Perte.append(running_loss / len(train_loader))\n",
    "    \n",
    "    correct = 0\n",
    "    total = 0\n",
    "    model.eval()\n",
    "    \n",
    "    with torch.no_grad():\n",
    "        for images, etiquettes in test_loader:\n",
    "            sorties = model(images)\n",
    "            _, predit = torch.max(sorties.data, 1)\n",
    "            total += etiquettes.size(0)\n",
    "            correct += (predit == etiquettes).sum().item()\n",
    "    \n",
    "    precision = 100 * correct / total\n",
    "    acc.append(precision)\n",
    "    \n",
    "    if epoque % 5 == 0:\n",
    "        print(f'Époque : {epoque}, Perte : {running_loss / len(train_loader)}, Précision : {precision}')\n",
    "\n",
    "print(f'Nombre d\\'images dans le dataset original: {len(dataset)}')\n",
    "print(f'Nombre d\\'images dans le train_loader: {len(train_loader.dataset)}')\n",
    "print(f'Nombre d\\'images dans le test_loader: {len(test_loader.dataset)}')\n"
   ]
  },
  {
   "cell_type": "code",
   "execution_count": null,
   "id": "af270c3c",
   "metadata": {},
   "outputs": [],
   "source": [
    "plt.plot(Perte)\n",
    "plt.xlabel(\"nombre d'époques\")\n",
    "plt.ylabel(\"perte totale\")\n",
    "plt.title(\"Perte\")\n",
    "plt.show()"
   ]
  },
  {
   "cell_type": "code",
   "execution_count": null,
   "id": "5d2adacb",
   "metadata": {},
   "outputs": [],
   "source": [
    "plt.plot(acc)\n",
    "plt.xlabel(\"nombre d'époques\")\n",
    "plt.ylabel(\"précision totale\")\n",
    "plt.title(\"Précision\")\n",
    "plt.show()"
   ]
  },
  {
   "cell_type": "code",
   "execution_count": null,
   "id": "ea823cca",
   "metadata": {},
   "outputs": [],
   "source": [
    "import torch\n",
    "import torchvision.models as models\n",
    "\n",
    "# Définir des données factices en entrée\n",
    "dummy_input = torch.randn(1, 3, 112, 112)  # Les dimensions correspondent à celles des données MNIST\n",
    "\n",
    "# Spécifier le chemin de sauvegarde du modèle ONNX\n",
    "onnx_path = \"flower_model.onnx\"\n",
    "\n",
    "# Exporter le modèle en format ONNX\n",
    "torch.onnx.export(model, dummy_input, onnx_path)"
   ]
  },
  {
   "cell_type": "code",
   "execution_count": null,
   "id": "8cb7dd54",
   "metadata": {},
   "outputs": [],
   "source": []
  }
 ],
 "metadata": {
  "kernelspec": {
   "display_name": "Python 3 (ipykernel)",
   "language": "python",
   "name": "python3"
  },
  "language_info": {
   "codemirror_mode": {
    "name": "ipython",
    "version": 3
   },
   "file_extension": ".py",
   "mimetype": "text/x-python",
   "name": "python",
   "nbconvert_exporter": "python",
   "pygments_lexer": "ipython3",
   "version": "3.9.13"
  }
 },
 "nbformat": 4,
 "nbformat_minor": 5
}
